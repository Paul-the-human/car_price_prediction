{
 "cells": [
  {
   "cell_type": "code",
   "execution_count": 1,
   "id": "initial_id",
   "metadata": {
    "ExecuteTime": {
     "end_time": "2023-12-27T12:55:35.356041690Z",
     "start_time": "2023-12-27T12:55:35.242378387Z"
    }
   },
   "outputs": [],
   "source": [
    "import pandas as pd\n",
    "from category_encoders import LeaveOneOutEncoder\n",
    "from sklearn.model_selection import train_test_split\n",
    "from sklearn.linear_model import LinearRegression\n",
    "from sklearn.metrics import mean_squared_error"
   ]
  },
  {
   "cell_type": "code",
   "execution_count": 2,
   "id": "e07b3e2b22770a0f",
   "metadata": {
    "ExecuteTime": {
     "end_time": "2023-12-27T12:55:35.398127577Z",
     "start_time": "2023-12-27T12:55:35.358000096Z"
    },
    "collapsed": false,
    "jupyter": {
     "outputs_hidden": false
    }
   },
   "outputs": [],
   "source": [
    "df = pd.read_csv('car_price_prediction.csv')"
   ]
  },
  {
   "cell_type": "code",
   "execution_count": 3,
   "id": "4a9d668f1b5ca6ae",
   "metadata": {
    "ExecuteTime": {
     "end_time": "2023-12-27T12:55:35.439779193Z",
     "start_time": "2023-12-27T12:55:35.395705062Z"
    },
    "collapsed": false,
    "jupyter": {
     "outputs_hidden": false
    }
   },
   "outputs": [
    {
     "name": "stdout",
     "output_type": "stream",
     "text": [
      "<class 'pandas.core.frame.DataFrame'>\n",
      "RangeIndex: 19237 entries, 0 to 19236\n",
      "Data columns (total 18 columns):\n",
      " #   Column            Non-Null Count  Dtype  \n",
      "---  ------            --------------  -----  \n",
      " 0   ID                19237 non-null  int64  \n",
      " 1   Price             19237 non-null  int64  \n",
      " 2   Levy              19237 non-null  object \n",
      " 3   Manufacturer      19237 non-null  object \n",
      " 4   Model             19237 non-null  object \n",
      " 5   Prod. year        19237 non-null  int64  \n",
      " 6   Category          19237 non-null  object \n",
      " 7   Leather interior  19237 non-null  object \n",
      " 8   Fuel type         19237 non-null  object \n",
      " 9   Engine volume     19237 non-null  object \n",
      " 10  Mileage           19237 non-null  object \n",
      " 11  Cylinders         19237 non-null  float64\n",
      " 12  Gear box type     19237 non-null  object \n",
      " 13  Drive wheels      19237 non-null  object \n",
      " 14  Doors             19237 non-null  object \n",
      " 15  Wheel             19237 non-null  object \n",
      " 16  Color             19237 non-null  object \n",
      " 17  Airbags           19237 non-null  int64  \n",
      "dtypes: float64(1), int64(4), object(13)\n",
      "memory usage: 2.6+ MB\n"
     ]
    }
   ],
   "source": [
    "df.info()"
   ]
  },
  {
   "cell_type": "markdown",
   "id": "e8679836ee7abc9f",
   "metadata": {
    "collapsed": false,
    "jupyter": {
     "outputs_hidden": false
    }
   },
   "source": [
    "В датасете относительно много данных и нет значений nan.\n",
    "Непонятные колонки: Levy.\n",
    "Стоит посмотреть колонки типа object на наличие \"пропусков\", бинарных или числовых типов."
   ]
  },
  {
   "cell_type": "code",
   "execution_count": 4,
   "id": "f22044e67398f392",
   "metadata": {
    "ExecuteTime": {
     "end_time": "2023-12-27T12:55:35.447983088Z",
     "start_time": "2023-12-27T12:55:35.438919302Z"
    },
    "collapsed": false,
    "jupyter": {
     "outputs_hidden": false
    }
   },
   "outputs": [
    {
     "data": {
      "text/plain": [
       "array(['1399', '1018', '-', '862', '446', '891', '761', '751', '394',\n",
       "       '1053', '1055', '1079', '810', '2386', '1850', '531', '586',\n",
       "       '1249', '2455', '583', '1537', '1288', '915', '1750', '707',\n",
       "       '1077', '1486', '1091', '650', '382', '1436', '1194', '503',\n",
       "       '1017', '1104', '639', '629', '919', '781', '530', '640', '765',\n",
       "       '777', '779', '934', '769', '645', '1185', '1324', '830', '1187',\n",
       "       '1111', '760', '642', '1604', '1095', '966', '473', '1138', '1811',\n",
       "       '988', '917', '1156', '687', '11714', '836', '1347', '2866',\n",
       "       '1646', '259', '609', '697', '585', '475', '690', '308', '1823',\n",
       "       '1361', '1273', '924', '584', '2078', '831', '1172', '893', '1872',\n",
       "       '1885', '1266', '447', '2148', '1730', '730', '289', '502', '333',\n",
       "       '1325', '247', '879', '1342', '1327', '1598', '1514', '1058',\n",
       "       '738', '1935', '481', '1522', '1282', '456', '880', '900', '798',\n",
       "       '1277', '442', '1051', '790', '1292', '1047', '528', '1211',\n",
       "       '1493', '1793', '574', '930', '1998', '271', '706', '1481', '1677',\n",
       "       '1661', '1286', '1408', '1090', '595', '1451', '1267', '993',\n",
       "       '1714', '878', '641', '749', '1511', '603', '353', '877', '1236',\n",
       "       '1141', '397', '784', '1024', '1357', '1301', '770', '922', '1438',\n",
       "       '753', '607', '1363', '638', '490', '431', '565', '517', '833',\n",
       "       '489', '1760', '986', '1841', '1620', '1360', '474', '1099', '978',\n",
       "       '1624', '1946', '1268', '1307', '696', '649', '666', '2151', '551',\n",
       "       '800', '971', '1323', '2377', '1845', '1083', '694', '463', '419',\n",
       "       '345', '1515', '1505', '2056', '1203', '729', '460', '1356', '876',\n",
       "       '911', '1190', '780', '448', '2410', '1848', '1148', '834', '1275',\n",
       "       '1028', '1197', '724', '890', '1705', '505', '789', '2959', '518',\n",
       "       '461', '1719', '2858', '3156', '2225', '2177', '1968', '1888',\n",
       "       '1308', '2736', '1103', '557', '2195', '843', '1664', '723',\n",
       "       '4508', '562', '501', '2018', '1076', '1202', '3301', '691',\n",
       "       '1440', '1869', '1178', '418', '1820', '1413', '488', '1304',\n",
       "       '363', '2108', '521', '1659', '87', '1411', '1528', '3292', '7058',\n",
       "       '1578', '627', '874', '1996', '1488', '5679', '1234', '5603',\n",
       "       '400', '889', '3268', '875', '949', '2265', '441', '742', '425',\n",
       "       '2476', '2971', '614', '1816', '1375', '1405', '2297', '1062',\n",
       "       '1113', '420', '2469', '658', '1951', '2670', '2578', '1995',\n",
       "       '1032', '994', '1011', '2421', '1296', '155', '494', '426', '1086',\n",
       "       '961', '2236', '1829', '764', '1834', '1054', '617', '1529',\n",
       "       '2266', '637', '626', '1832', '1016', '2002', '1756', '746',\n",
       "       '1285', '2690', '1118', '5332', '980', '1807', '970', '1228',\n",
       "       '1195', '1132', '1768', '1384', '1080', '7063', '1817', '1452',\n",
       "       '1975', '1368', '702', '1974', '1781', '1036', '944', '663', '364',\n",
       "       '1539', '1345', '1680', '2209', '741', '1575', '695', '1317',\n",
       "       '294', '1525', '424', '997', '1473', '1552', '2819', '2188',\n",
       "       '1668', '3057', '799', '1502', '2606', '552', '1694', '1759',\n",
       "       '1110', '399', '1470', '1174', '5877', '1474', '1688', '526',\n",
       "       '686', '5908', '1107', '2070', '1468', '1246', '1685', '556',\n",
       "       '1533', '1917', '1346', '732', '692', '579', '421', '362', '3505',\n",
       "       '1855', '2711', '1586', '3739', '681', '1708', '2278', '1701',\n",
       "       '722', '1482', '928', '827', '832', '527', '604', '173', '1341',\n",
       "       '3329', '1553', '859', '167', '916', '828', '2082', '1176', '1108',\n",
       "       '975', '3008', '1516', '2269', '1699', '2073', '1031', '1503',\n",
       "       '2364', '1030', '1442', '5666', '2715', '1437', '2067', '1426',\n",
       "       '2908', '1279', '866', '4283', '279', '2658', '3015', '2004',\n",
       "       '1391', '4736', '748', '1466', '644', '683', '2705', '1297', '731',\n",
       "       '1252', '2216', '3141', '3273', '1518', '1723', '1588', '972',\n",
       "       '682', '1094', '668', '175', '967', '402', '3894', '1960', '1599',\n",
       "       '2000', '2084', '1621', '714', '1109', '3989', '873', '1572',\n",
       "       '1163', '1991', '1716', '1673', '2562', '2874', '965', '462',\n",
       "       '605', '1948', '1736', '3518', '2054', '2467', '1681', '1272',\n",
       "       '1205', '750', '2156', '2566', '115', '524', '3184', '676', '1678',\n",
       "       '612', '328', '955', '1441', '1675', '3965', '2909', '623', '822',\n",
       "       '867', '3025', '1993', '792', '636', '4057', '3743', '2337',\n",
       "       '2570', '2418', '2472', '3910', '1662', '2123', '2628', '3208',\n",
       "       '2080', '3699', '2913', '864', '2505', '870', '7536', '1924',\n",
       "       '1671', '1064', '1836', '1866', '4741', '841', '1369', '5681',\n",
       "       '3112', '1366', '2223', '1198', '1039', '3811', '3571', '1387',\n",
       "       '1171', '1365', '1531', '1590', '11706', '2308', '4860', '1641',\n",
       "       '1045', '1901'], dtype=object)"
      ]
     },
     "execution_count": 4,
     "metadata": {},
     "output_type": "execute_result"
    }
   ],
   "source": [
    "df[\"Levy\"].unique()"
   ]
  },
  {
   "cell_type": "markdown",
   "id": "9cd13e4cb5a6c985",
   "metadata": {
    "collapsed": false,
    "jupyter": {
     "outputs_hidden": false
    }
   },
   "source": [
    "Levy перевод - сбор. Похоже на какой-то налог.\n",
    "Учитывая что всего 9 уникальных значений, то это дискретная величина."
   ]
  },
  {
   "cell_type": "code",
   "execution_count": 5,
   "id": "b7383fb2d4aa6cbe",
   "metadata": {
    "ExecuteTime": {
     "end_time": "2023-12-27T12:55:35.449224441Z",
     "start_time": "2023-12-27T12:55:35.439470197Z"
    },
    "collapsed": false,
    "jupyter": {
     "outputs_hidden": false
    }
   },
   "outputs": [
    {
     "data": {
      "text/plain": [
       "Levy\n",
       "-       5819\n",
       "765      486\n",
       "891      461\n",
       "639      410\n",
       "640      405\n",
       "        ... \n",
       "3156       1\n",
       "2908       1\n",
       "1279       1\n",
       "1719       1\n",
       "1901       1\n",
       "Name: count, Length: 559, dtype: int64"
      ]
     },
     "execution_count": 5,
     "metadata": {},
     "output_type": "execute_result"
    }
   ],
   "source": [
    "df[\"Levy\"].value_counts()"
   ]
  },
  {
   "cell_type": "code",
   "execution_count": 6,
   "id": "12ad41901bf67580",
   "metadata": {
    "ExecuteTime": {
     "end_time": "2023-12-27T12:55:35.450204111Z",
     "start_time": "2023-12-27T12:55:35.439958299Z"
    },
    "collapsed": false,
    "jupyter": {
     "outputs_hidden": false
    }
   },
   "outputs": [],
   "source": [
    "df[\"Levy\"] = df[\"Levy\"].replace(\"-\", 0)\n",
    "df = df.astype({\"Levy\": \"int32\"})"
   ]
  },
  {
   "cell_type": "markdown",
   "id": "e49ded8b11a62b7a",
   "metadata": {
    "collapsed": false,
    "jupyter": {
     "outputs_hidden": false
    }
   },
   "source": [
    "По информации с kaggle: \"Tax of importing and exporting the cars.\"\n",
    "Так же указано, что не определена валюта и смысл для \"-\".\n",
    "\n",
    "Принял \"-\", как 0 и изменил тип колонки на числовой."
   ]
  },
  {
   "cell_type": "code",
   "execution_count": 7,
   "id": "e46cd74366126370",
   "metadata": {
    "ExecuteTime": {
     "end_time": "2023-12-27T12:55:35.502399204Z",
     "start_time": "2023-12-27T12:55:35.440613878Z"
    },
    "collapsed": false,
    "jupyter": {
     "outputs_hidden": false
    }
   },
   "outputs": [
    {
     "data": {
      "text/plain": [
       "Manufacturer\n",
       "HYUNDAI          3769\n",
       "TOYOTA           3662\n",
       "MERCEDES-BENZ    2076\n",
       "FORD             1111\n",
       "CHEVROLET        1069\n",
       "                 ... \n",
       "TESLA               1\n",
       "PONTIAC             1\n",
       "SATURN              1\n",
       "ASTON MARTIN        1\n",
       "GREATWALL           1\n",
       "Name: count, Length: 65, dtype: int64"
      ]
     },
     "execution_count": 7,
     "metadata": {},
     "output_type": "execute_result"
    }
   ],
   "source": [
    "df[\"Manufacturer\"].value_counts()"
   ]
  },
  {
   "cell_type": "code",
   "execution_count": 8,
   "id": "92532b23b76b53f",
   "metadata": {
    "ExecuteTime": {
     "end_time": "2023-12-27T12:55:35.503493659Z",
     "start_time": "2023-12-27T12:55:35.486238851Z"
    },
    "collapsed": false,
    "jupyter": {
     "outputs_hidden": false
    }
   },
   "outputs": [
    {
     "data": {
      "text/html": [
       "<div>\n",
       "<style scoped>\n",
       "    .dataframe tbody tr th:only-of-type {\n",
       "        vertical-align: middle;\n",
       "    }\n",
       "\n",
       "    .dataframe tbody tr th {\n",
       "        vertical-align: top;\n",
       "    }\n",
       "\n",
       "    .dataframe thead th {\n",
       "        text-align: right;\n",
       "    }\n",
       "</style>\n",
       "<table border=\"1\" class=\"dataframe\">\n",
       "  <thead>\n",
       "    <tr style=\"text-align: right;\">\n",
       "      <th></th>\n",
       "      <th>ID</th>\n",
       "      <th>Price</th>\n",
       "      <th>Levy</th>\n",
       "      <th>Manufacturer</th>\n",
       "      <th>Model</th>\n",
       "      <th>Prod. year</th>\n",
       "      <th>Category</th>\n",
       "      <th>Leather interior</th>\n",
       "      <th>Fuel type</th>\n",
       "      <th>Engine volume</th>\n",
       "      <th>Mileage</th>\n",
       "      <th>Cylinders</th>\n",
       "      <th>Gear box type</th>\n",
       "      <th>Drive wheels</th>\n",
       "      <th>Doors</th>\n",
       "      <th>Wheel</th>\n",
       "      <th>Color</th>\n",
       "      <th>Airbags</th>\n",
       "    </tr>\n",
       "  </thead>\n",
       "  <tbody>\n",
       "    <tr>\n",
       "      <th>2358</th>\n",
       "      <td>45779593</td>\n",
       "      <td>25089</td>\n",
       "      <td>0</td>\n",
       "      <td>სხვა</td>\n",
       "      <td>IVECO DAYLY</td>\n",
       "      <td>2007</td>\n",
       "      <td>Microbus</td>\n",
       "      <td>No</td>\n",
       "      <td>Diesel</td>\n",
       "      <td>2.3 Turbo</td>\n",
       "      <td>328000 km</td>\n",
       "      <td>4.0</td>\n",
       "      <td>Manual</td>\n",
       "      <td>Rear</td>\n",
       "      <td>04-May</td>\n",
       "      <td>Left wheel</td>\n",
       "      <td>White</td>\n",
       "      <td>1</td>\n",
       "    </tr>\n",
       "    <tr>\n",
       "      <th>4792</th>\n",
       "      <td>39223518</td>\n",
       "      <td>9408</td>\n",
       "      <td>0</td>\n",
       "      <td>სხვა</td>\n",
       "      <td>GONOW</td>\n",
       "      <td>2005</td>\n",
       "      <td>Jeep</td>\n",
       "      <td>Yes</td>\n",
       "      <td>Petrol</td>\n",
       "      <td>2.3</td>\n",
       "      <td>102000 km</td>\n",
       "      <td>4.0</td>\n",
       "      <td>Manual</td>\n",
       "      <td>Rear</td>\n",
       "      <td>04-May</td>\n",
       "      <td>Left wheel</td>\n",
       "      <td>Silver</td>\n",
       "      <td>2</td>\n",
       "    </tr>\n",
       "  </tbody>\n",
       "</table>\n",
       "</div>"
      ],
      "text/plain": [
       "            ID  Price  Levy Manufacturer        Model  Prod. year  Category  \\\n",
       "2358  45779593  25089     0         სხვა  IVECO DAYLY        2007  Microbus   \n",
       "4792  39223518   9408     0         სხვა        GONOW        2005      Jeep   \n",
       "\n",
       "     Leather interior Fuel type Engine volume    Mileage  Cylinders  \\\n",
       "2358               No    Diesel     2.3 Turbo  328000 km        4.0   \n",
       "4792              Yes    Petrol           2.3  102000 km        4.0   \n",
       "\n",
       "     Gear box type Drive wheels   Doors       Wheel   Color  Airbags  \n",
       "2358        Manual         Rear  04-May  Left wheel   White        1  \n",
       "4792        Manual         Rear  04-May  Left wheel  Silver        2  "
      ]
     },
     "execution_count": 8,
     "metadata": {},
     "output_type": "execute_result"
    }
   ],
   "source": [
    "df[df[\"Manufacturer\"] == \"სხვა\"]"
   ]
  },
  {
   "cell_type": "markdown",
   "id": "1ef2ab29906387df",
   "metadata": {
    "collapsed": false,
    "jupyter": {
     "outputs_hidden": false
    }
   },
   "source": [
    "Есть необычное значение \"სხვა\" в колонке Manufacturer.\n",
    "Google определил как Грузинский язык. Перевод на английский other, что подходит по смыслу.\n",
    "Какой шанс, что автор датасета Грузин?)\n",
    "\n",
    "Удаляю строчки с სხვა в Manufacturer."
   ]
  },
  {
   "cell_type": "code",
   "execution_count": 9,
   "id": "5ce7e141aeb73dcb",
   "metadata": {
    "ExecuteTime": {
     "end_time": "2023-12-27T12:55:35.504005566Z",
     "start_time": "2023-12-27T12:55:35.486628055Z"
    },
    "collapsed": false,
    "jupyter": {
     "outputs_hidden": false
    }
   },
   "outputs": [],
   "source": [
    "df = df[df[\"Manufacturer\"] != \"სხვა\"]"
   ]
  },
  {
   "cell_type": "markdown",
   "id": "2b42d990c701358e",
   "metadata": {
    "collapsed": false,
    "jupyter": {
     "outputs_hidden": false
    }
   },
   "source": [
    "Заменяю бинарные классификации колонками булевых типов:"
   ]
  },
  {
   "cell_type": "code",
   "execution_count": 10,
   "id": "f43f6ef2d137b879",
   "metadata": {
    "ExecuteTime": {
     "end_time": "2023-12-27T12:55:35.504439566Z",
     "start_time": "2023-12-27T12:55:35.486973741Z"
    },
    "collapsed": false,
    "jupyter": {
     "outputs_hidden": false
    }
   },
   "outputs": [],
   "source": [
    "df[\"Leather interior\"] = pd.get_dummies(df[\"Leather interior\"], drop_first=True)\n",
    "df[\"Right_hand\"] = pd.get_dummies(df[\"Wheel\"], drop_first=True)\n",
    "df = df.drop([\"Wheel\"], axis=1)"
   ]
  },
  {
   "cell_type": "code",
   "execution_count": 11,
   "id": "b59c4b9b943765ae",
   "metadata": {
    "ExecuteTime": {
     "end_time": "2023-12-27T12:55:35.504904921Z",
     "start_time": "2023-12-27T12:55:35.487215105Z"
    },
    "collapsed": false,
    "jupyter": {
     "outputs_hidden": false
    }
   },
   "outputs": [],
   "source": [
    "# конвертирую float в int\n",
    "df = df.astype({\"Cylinders\": \"int32\"})"
   ]
  },
  {
   "cell_type": "markdown",
   "id": "5fdeabc04fe8b36c",
   "metadata": {
    "collapsed": false,
    "jupyter": {
     "outputs_hidden": false
    }
   },
   "source": [
    "Функции для конвертации колонок в числовые типы: Mileage, Engine volume.\n",
    "Функция для колонки Turbo."
   ]
  },
  {
   "cell_type": "code",
   "execution_count": 12,
   "id": "ce5fd906198fc26a",
   "metadata": {
    "ExecuteTime": {
     "end_time": "2023-12-27T12:55:35.567851498Z",
     "start_time": "2023-12-27T12:55:35.488389082Z"
    },
    "collapsed": false,
    "jupyter": {
     "outputs_hidden": false
    }
   },
   "outputs": [],
   "source": [
    "def mileage_to_int(x: str) -> int:\n",
    "    return int(x.replace(\" km\", \"\"))\n",
    "df[\"Mileage\"] = df[\"Mileage\"].apply(mileage_to_int)\n"
   ]
  },
  {
   "cell_type": "code",
   "execution_count": 13,
   "id": "24cfbba5787e919a",
   "metadata": {
    "ExecuteTime": {
     "end_time": "2023-12-27T12:55:35.568561925Z",
     "start_time": "2023-12-27T12:55:35.530000131Z"
    },
    "collapsed": false,
    "jupyter": {
     "outputs_hidden": false
    }
   },
   "outputs": [],
   "source": [
    "def has_turbo(x: str) -> bool:\n",
    "    return \"Turbo\" in x\n",
    "df[\"Turbo\"] = df[\"Engine volume\"].apply(has_turbo)"
   ]
  },
  {
   "cell_type": "code",
   "execution_count": 14,
   "id": "97d20089c81d3666",
   "metadata": {
    "ExecuteTime": {
     "end_time": "2023-12-27T12:55:35.569042412Z",
     "start_time": "2023-12-27T12:55:35.530422215Z"
    },
    "collapsed": false,
    "jupyter": {
     "outputs_hidden": false
    }
   },
   "outputs": [],
   "source": [
    "def engine_volume_to_float(x: str) -> float:\n",
    "    return float(x.replace(\" Turbo\", \"\"))\n",
    "df[\"Engine volume\"] = df[\"Engine volume\"].apply(engine_volume_to_float)"
   ]
  },
  {
   "cell_type": "markdown",
   "id": "de7ab857d4f172f5",
   "metadata": {
    "collapsed": false,
    "jupyter": {
     "outputs_hidden": false
    }
   },
   "source": [
    "Колонки: Doors, Drive wheels, Gear box type привел к числовому формату.\n",
    "Изменил имена колонок на более понятные и удалил Doors, Drive wheels, Gear."
   ]
  },
  {
   "cell_type": "code",
   "execution_count": 15,
   "id": "ca06a108ff76f9e3",
   "metadata": {
    "ExecuteTime": {
     "end_time": "2023-12-27T12:55:35.630173125Z",
     "start_time": "2023-12-27T12:55:35.530704722Z"
    },
    "collapsed": false,
    "jupyter": {
     "outputs_hidden": false
    }
   },
   "outputs": [],
   "source": [
    "df = pd.concat([\n",
    "    df,\n",
    "    pd.get_dummies(df[\"Doors\"], drop_first=True),\n",
    "    pd.get_dummies(df[\"Drive wheels\"], drop_first=True),\n",
    "    pd.get_dummies(df[\"Gear box type\"], drop_first=True),\n",
    "], axis=1)\n",
    "df = df.rename(columns={\"04-May\": \"4 doors\", \">5\": \">5 doors\"})\n",
    "df[\"Manufacturer and Model\"] = df[\"Manufacturer\"] + df[\"Model\"]\n",
    "df = df.drop([\"Doors\", \"Drive wheels\", \"Gear box type\", \"Manufacturer\", \"Model\"], axis=1)"
   ]
  },
  {
   "cell_type": "code",
   "execution_count": 16,
   "id": "48b5df35f4badfdd",
   "metadata": {
    "ExecuteTime": {
     "end_time": "2023-12-27T12:55:35.631055271Z",
     "start_time": "2023-12-27T12:55:35.577750621Z"
    },
    "collapsed": false,
    "jupyter": {
     "outputs_hidden": false
    }
   },
   "outputs": [],
   "source": [
    "X_train, X_test, y_train, y_test = train_test_split(df.drop([\"Price\", \"ID\"], axis=1), df[\"Price\"], test_size=0.2, random_state=144, shuffle=True)"
   ]
  },
  {
   "cell_type": "code",
   "execution_count": 17,
   "id": "40a00f54638668c",
   "metadata": {
    "ExecuteTime": {
     "end_time": "2023-12-27T12:55:35.631591288Z",
     "start_time": "2023-12-27T12:55:35.578219978Z"
    },
    "collapsed": false,
    "jupyter": {
     "outputs_hidden": false
    }
   },
   "outputs": [],
   "source": [
    "encoder_mm = LeaveOneOutEncoder()\n",
    "X_train['Manufacturer and Model'] = encoder_mm.fit_transform(X_train['Manufacturer and Model'], y_train)"
   ]
  },
  {
   "cell_type": "code",
   "execution_count": 18,
   "id": "271bb994deb8cf2c",
   "metadata": {
    "ExecuteTime": {
     "end_time": "2023-12-27T12:55:35.669800666Z",
     "start_time": "2023-12-27T12:55:35.581003031Z"
    },
    "collapsed": false,
    "jupyter": {
     "outputs_hidden": false
    }
   },
   "outputs": [],
   "source": [
    "encoder_col = LeaveOneOutEncoder()\n",
    "X_train['Color'] = encoder_col.fit_transform(X_train['Color'], y_train)"
   ]
  },
  {
   "cell_type": "code",
   "execution_count": 19,
   "id": "270ca27173ea7ca4",
   "metadata": {
    "ExecuteTime": {
     "end_time": "2023-12-27T12:55:35.672366461Z",
     "start_time": "2023-12-27T12:55:35.596470757Z"
    },
    "collapsed": false,
    "jupyter": {
     "outputs_hidden": false
    }
   },
   "outputs": [],
   "source": [
    "encoder_ft = LeaveOneOutEncoder()\n",
    "X_train['Fuel type'] = encoder_ft.fit_transform(X_train['Fuel type'], y_train)"
   ]
  },
  {
   "cell_type": "code",
   "execution_count": 20,
   "id": "cddc02f8ff3d9d84",
   "metadata": {
    "ExecuteTime": {
     "end_time": "2023-12-27T12:55:35.672949453Z",
     "start_time": "2023-12-27T12:55:35.637681095Z"
    },
    "collapsed": false,
    "jupyter": {
     "outputs_hidden": false
    }
   },
   "outputs": [],
   "source": [
    "encoder_cat = LeaveOneOutEncoder()\n",
    "X_train['Category'] = encoder_cat.fit_transform(X_train['Category'], y_train)"
   ]
  },
  {
   "cell_type": "code",
   "execution_count": 21,
   "id": "2fd523ef9cfed694",
   "metadata": {
    "ExecuteTime": {
     "end_time": "2023-12-27T12:55:39.423772107Z",
     "start_time": "2023-12-27T12:55:39.407933831Z"
    },
    "collapsed": false,
    "jupyter": {
     "outputs_hidden": false
    }
   },
   "outputs": [
    {
     "data": {
      "text/html": [
       "<style>#sk-container-id-1 {color: black;}#sk-container-id-1 pre{padding: 0;}#sk-container-id-1 div.sk-toggleable {background-color: white;}#sk-container-id-1 label.sk-toggleable__label {cursor: pointer;display: block;width: 100%;margin-bottom: 0;padding: 0.3em;box-sizing: border-box;text-align: center;}#sk-container-id-1 label.sk-toggleable__label-arrow:before {content: \"▸\";float: left;margin-right: 0.25em;color: #696969;}#sk-container-id-1 label.sk-toggleable__label-arrow:hover:before {color: black;}#sk-container-id-1 div.sk-estimator:hover label.sk-toggleable__label-arrow:before {color: black;}#sk-container-id-1 div.sk-toggleable__content {max-height: 0;max-width: 0;overflow: hidden;text-align: left;background-color: #f0f8ff;}#sk-container-id-1 div.sk-toggleable__content pre {margin: 0.2em;color: black;border-radius: 0.25em;background-color: #f0f8ff;}#sk-container-id-1 input.sk-toggleable__control:checked~div.sk-toggleable__content {max-height: 200px;max-width: 100%;overflow: auto;}#sk-container-id-1 input.sk-toggleable__control:checked~label.sk-toggleable__label-arrow:before {content: \"▾\";}#sk-container-id-1 div.sk-estimator input.sk-toggleable__control:checked~label.sk-toggleable__label {background-color: #d4ebff;}#sk-container-id-1 div.sk-label input.sk-toggleable__control:checked~label.sk-toggleable__label {background-color: #d4ebff;}#sk-container-id-1 input.sk-hidden--visually {border: 0;clip: rect(1px 1px 1px 1px);clip: rect(1px, 1px, 1px, 1px);height: 1px;margin: -1px;overflow: hidden;padding: 0;position: absolute;width: 1px;}#sk-container-id-1 div.sk-estimator {font-family: monospace;background-color: #f0f8ff;border: 1px dotted black;border-radius: 0.25em;box-sizing: border-box;margin-bottom: 0.5em;}#sk-container-id-1 div.sk-estimator:hover {background-color: #d4ebff;}#sk-container-id-1 div.sk-parallel-item::after {content: \"\";width: 100%;border-bottom: 1px solid gray;flex-grow: 1;}#sk-container-id-1 div.sk-label:hover label.sk-toggleable__label {background-color: #d4ebff;}#sk-container-id-1 div.sk-serial::before {content: \"\";position: absolute;border-left: 1px solid gray;box-sizing: border-box;top: 0;bottom: 0;left: 50%;z-index: 0;}#sk-container-id-1 div.sk-serial {display: flex;flex-direction: column;align-items: center;background-color: white;padding-right: 0.2em;padding-left: 0.2em;position: relative;}#sk-container-id-1 div.sk-item {position: relative;z-index: 1;}#sk-container-id-1 div.sk-parallel {display: flex;align-items: stretch;justify-content: center;background-color: white;position: relative;}#sk-container-id-1 div.sk-item::before, #sk-container-id-1 div.sk-parallel-item::before {content: \"\";position: absolute;border-left: 1px solid gray;box-sizing: border-box;top: 0;bottom: 0;left: 50%;z-index: -1;}#sk-container-id-1 div.sk-parallel-item {display: flex;flex-direction: column;z-index: 1;position: relative;background-color: white;}#sk-container-id-1 div.sk-parallel-item:first-child::after {align-self: flex-end;width: 50%;}#sk-container-id-1 div.sk-parallel-item:last-child::after {align-self: flex-start;width: 50%;}#sk-container-id-1 div.sk-parallel-item:only-child::after {width: 0;}#sk-container-id-1 div.sk-dashed-wrapped {border: 1px dashed gray;margin: 0 0.4em 0.5em 0.4em;box-sizing: border-box;padding-bottom: 0.4em;background-color: white;}#sk-container-id-1 div.sk-label label {font-family: monospace;font-weight: bold;display: inline-block;line-height: 1.2em;}#sk-container-id-1 div.sk-label-container {text-align: center;}#sk-container-id-1 div.sk-container {/* jupyter's `normalize.less` sets `[hidden] { display: none; }` but bootstrap.min.css set `[hidden] { display: none !important; }` so we also need the `!important` here to be able to override the default hidden behavior on the sphinx rendered scikit-learn.org. See: https://github.com/scikit-learn/scikit-learn/issues/21755 */display: inline-block !important;position: relative;}#sk-container-id-1 div.sk-text-repr-fallback {display: none;}</style><div id=\"sk-container-id-1\" class=\"sk-top-container\"><div class=\"sk-text-repr-fallback\"><pre>LinearRegression()</pre><b>In a Jupyter environment, please rerun this cell to show the HTML representation or trust the notebook. <br />On GitHub, the HTML representation is unable to render, please try loading this page with nbviewer.org.</b></div><div class=\"sk-container\" hidden><div class=\"sk-item\"><div class=\"sk-estimator sk-toggleable\"><input class=\"sk-toggleable__control sk-hidden--visually\" id=\"sk-estimator-id-1\" type=\"checkbox\" checked><label for=\"sk-estimator-id-1\" class=\"sk-toggleable__label sk-toggleable__label-arrow\">LinearRegression</label><div class=\"sk-toggleable__content\"><pre>LinearRegression()</pre></div></div></div></div></div>"
      ],
      "text/plain": [
       "LinearRegression()"
      ]
     },
     "execution_count": 21,
     "metadata": {},
     "output_type": "execute_result"
    }
   ],
   "source": [
    "m = LinearRegression()\n",
    "m.fit(X_train, y_train)"
   ]
  },
  {
   "cell_type": "code",
   "execution_count": 22,
   "id": "1ca56bb4b878c1f4",
   "metadata": {
    "ExecuteTime": {
     "end_time": "2023-12-27T12:55:41.966609090Z",
     "start_time": "2023-12-27T12:55:41.935334105Z"
    },
    "collapsed": false,
    "jupyter": {
     "outputs_hidden": false
    }
   },
   "outputs": [],
   "source": [
    "X_test['Manufacturer and Model'] = encoder_mm.transform(X_test['Manufacturer and Model'], y_test)\n",
    "X_test['Color'] = encoder_col.transform(X_test['Color'], y_test)\n",
    "X_test['Fuel type'] = encoder_ft.fit_transform(X_test['Fuel type'], y_test)\n",
    "X_test['Category'] = encoder_cat.fit_transform(X_test['Category'], y_test)"
   ]
  },
  {
   "cell_type": "code",
   "execution_count": 23,
   "id": "485e3a446d19cbfc",
   "metadata": {
    "ExecuteTime": {
     "end_time": "2023-12-27T12:55:43.661580544Z",
     "start_time": "2023-12-27T12:55:43.646929627Z"
    },
    "collapsed": false,
    "jupyter": {
     "outputs_hidden": false
    }
   },
   "outputs": [],
   "source": [
    "prediction = m.predict(X_test)"
   ]
  },
  {
   "cell_type": "code",
   "execution_count": 24,
   "id": "98de17c2fcb80af8",
   "metadata": {
    "ExecuteTime": {
     "end_time": "2023-12-27T12:56:25.739075151Z",
     "start_time": "2023-12-27T12:56:25.690032610Z"
    },
    "collapsed": false,
    "jupyter": {
     "outputs_hidden": false
    }
   },
   "outputs": [
    {
     "data": {
      "text/plain": [
       "373411547.07397306"
      ]
     },
     "execution_count": 24,
     "metadata": {},
     "output_type": "execute_result"
    }
   ],
   "source": [
    "mean_squared_error(y_test, prediction)"
   ]
  },
  {
   "cell_type": "code",
   "execution_count": null,
   "id": "834cba5fe3949d0a",
   "metadata": {
    "collapsed": false,
    "jupyter": {
     "outputs_hidden": false
    }
   },
   "outputs": [],
   "source": []
  }
 ],
 "metadata": {
  "kernelspec": {
   "display_name": "Python 3 (ipykernel)",
   "language": "python",
   "name": "python3"
  },
  "language_info": {
   "codemirror_mode": {
    "name": "ipython",
    "version": 3
   },
   "file_extension": ".py",
   "mimetype": "text/x-python",
   "name": "python",
   "nbconvert_exporter": "python",
   "pygments_lexer": "ipython3",
   "version": "3.8.18"
  }
 },
 "nbformat": 4,
 "nbformat_minor": 5
}
